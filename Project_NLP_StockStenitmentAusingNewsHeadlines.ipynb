{
 "cells": [
  {
   "cell_type": "markdown",
   "metadata": {},
   "source": [
    "# IMPORTING LIBRARIES"
   ]
  },
  {
   "cell_type": "code",
   "execution_count": 36,
   "metadata": {},
   "outputs": [],
   "source": [
    "import nltk\n",
    "from gensim.models import Word2Vec\n",
    "from nltk.corpus import stopwords\n",
    "import re\n",
    "import pandas as pd\n",
    "import numpy as np"
   ]
  },
  {
   "cell_type": "code",
   "execution_count": 37,
   "metadata": {},
   "outputs": [],
   "source": [
    "df = pd.read_csv(r'C:\\Users\\prach\\Desktop\\ML projects\\NLP - Krish Naik\\Data.csv', encoding = \"ISO-8859-1\")"
   ]
  },
  {
   "cell_type": "markdown",
   "metadata": {},
   "source": [
    "# DATA EXPLORATION"
   ]
  },
  {
   "cell_type": "code",
   "execution_count": 38,
   "metadata": {
    "scrolled": true
   },
   "outputs": [
    {
     "data": {
      "text/html": [
       "<div>\n",
       "<style scoped>\n",
       "    .dataframe tbody tr th:only-of-type {\n",
       "        vertical-align: middle;\n",
       "    }\n",
       "\n",
       "    .dataframe tbody tr th {\n",
       "        vertical-align: top;\n",
       "    }\n",
       "\n",
       "    .dataframe thead th {\n",
       "        text-align: right;\n",
       "    }\n",
       "</style>\n",
       "<table border=\"1\" class=\"dataframe\">\n",
       "  <thead>\n",
       "    <tr style=\"text-align: right;\">\n",
       "      <th></th>\n",
       "      <th>Date</th>\n",
       "      <th>Label</th>\n",
       "      <th>Top1</th>\n",
       "      <th>Top2</th>\n",
       "      <th>Top3</th>\n",
       "      <th>Top4</th>\n",
       "      <th>Top5</th>\n",
       "      <th>Top6</th>\n",
       "      <th>Top7</th>\n",
       "      <th>Top8</th>\n",
       "      <th>...</th>\n",
       "      <th>Top16</th>\n",
       "      <th>Top17</th>\n",
       "      <th>Top18</th>\n",
       "      <th>Top19</th>\n",
       "      <th>Top20</th>\n",
       "      <th>Top21</th>\n",
       "      <th>Top22</th>\n",
       "      <th>Top23</th>\n",
       "      <th>Top24</th>\n",
       "      <th>Top25</th>\n",
       "    </tr>\n",
       "  </thead>\n",
       "  <tbody>\n",
       "    <tr>\n",
       "      <th>0</th>\n",
       "      <td>2000-01-03</td>\n",
       "      <td>0</td>\n",
       "      <td>A 'hindrance to operations': extracts from the...</td>\n",
       "      <td>Scorecard</td>\n",
       "      <td>Hughes' instant hit buoys Blues</td>\n",
       "      <td>Jack gets his skates on at ice-cold Alex</td>\n",
       "      <td>Chaos as Maracana builds up for United</td>\n",
       "      <td>Depleted Leicester prevail as Elliott spoils E...</td>\n",
       "      <td>Hungry Spurs sense rich pickings</td>\n",
       "      <td>Gunners so wide of an easy target</td>\n",
       "      <td>...</td>\n",
       "      <td>Flintoff injury piles on woe for England</td>\n",
       "      <td>Hunters threaten Jospin with new battle of the...</td>\n",
       "      <td>Kohl's successor drawn into scandal</td>\n",
       "      <td>The difference between men and women</td>\n",
       "      <td>Sara Denver, nurse turned solicitor</td>\n",
       "      <td>Diana's landmine crusade put Tories in a panic</td>\n",
       "      <td>Yeltsin's resignation caught opposition flat-f...</td>\n",
       "      <td>Russian roulette</td>\n",
       "      <td>Sold out</td>\n",
       "      <td>Recovering a title</td>\n",
       "    </tr>\n",
       "    <tr>\n",
       "      <th>1</th>\n",
       "      <td>2000-01-04</td>\n",
       "      <td>0</td>\n",
       "      <td>Scorecard</td>\n",
       "      <td>The best lake scene</td>\n",
       "      <td>Leader: German sleaze inquiry</td>\n",
       "      <td>Cheerio, boyo</td>\n",
       "      <td>The main recommendations</td>\n",
       "      <td>Has Cubie killed fees?</td>\n",
       "      <td>Has Cubie killed fees?</td>\n",
       "      <td>Has Cubie killed fees?</td>\n",
       "      <td>...</td>\n",
       "      <td>On the critical list</td>\n",
       "      <td>The timing of their lives</td>\n",
       "      <td>Dear doctor</td>\n",
       "      <td>Irish court halts IRA man's extradition to Nor...</td>\n",
       "      <td>Burundi peace initiative fades after rebels re...</td>\n",
       "      <td>PE points the way forward to the ECB</td>\n",
       "      <td>Campaigners keep up pressure on Nazi war crime...</td>\n",
       "      <td>Jane Ratcliffe</td>\n",
       "      <td>Yet more things you wouldn't know without the ...</td>\n",
       "      <td>Millennium bug fails to bite</td>\n",
       "    </tr>\n",
       "  </tbody>\n",
       "</table>\n",
       "<p>2 rows × 27 columns</p>\n",
       "</div>"
      ],
      "text/plain": [
       "         Date  Label                                               Top1  \\\n",
       "0  2000-01-03      0  A 'hindrance to operations': extracts from the...   \n",
       "1  2000-01-04      0                                          Scorecard   \n",
       "\n",
       "                  Top2                             Top3  \\\n",
       "0            Scorecard  Hughes' instant hit buoys Blues   \n",
       "1  The best lake scene    Leader: German sleaze inquiry   \n",
       "\n",
       "                                       Top4  \\\n",
       "0  Jack gets his skates on at ice-cold Alex   \n",
       "1                             Cheerio, boyo   \n",
       "\n",
       "                                     Top5  \\\n",
       "0  Chaos as Maracana builds up for United   \n",
       "1                The main recommendations   \n",
       "\n",
       "                                                Top6  \\\n",
       "0  Depleted Leicester prevail as Elliott spoils E...   \n",
       "1                             Has Cubie killed fees?   \n",
       "\n",
       "                               Top7                               Top8  ...  \\\n",
       "0  Hungry Spurs sense rich pickings  Gunners so wide of an easy target  ...   \n",
       "1            Has Cubie killed fees?             Has Cubie killed fees?  ...   \n",
       "\n",
       "                                      Top16  \\\n",
       "0  Flintoff injury piles on woe for England   \n",
       "1                      On the critical list   \n",
       "\n",
       "                                               Top17  \\\n",
       "0  Hunters threaten Jospin with new battle of the...   \n",
       "1                          The timing of their lives   \n",
       "\n",
       "                                 Top18  \\\n",
       "0  Kohl's successor drawn into scandal   \n",
       "1                          Dear doctor   \n",
       "\n",
       "                                               Top19  \\\n",
       "0               The difference between men and women   \n",
       "1  Irish court halts IRA man's extradition to Nor...   \n",
       "\n",
       "                                               Top20  \\\n",
       "0                Sara Denver, nurse turned solicitor   \n",
       "1  Burundi peace initiative fades after rebels re...   \n",
       "\n",
       "                                            Top21  \\\n",
       "0  Diana's landmine crusade put Tories in a panic   \n",
       "1            PE points the way forward to the ECB   \n",
       "\n",
       "                                               Top22             Top23  \\\n",
       "0  Yeltsin's resignation caught opposition flat-f...  Russian roulette   \n",
       "1  Campaigners keep up pressure on Nazi war crime...    Jane Ratcliffe   \n",
       "\n",
       "                                               Top24  \\\n",
       "0                                           Sold out   \n",
       "1  Yet more things you wouldn't know without the ...   \n",
       "\n",
       "                          Top25  \n",
       "0            Recovering a title  \n",
       "1  Millennium bug fails to bite  \n",
       "\n",
       "[2 rows x 27 columns]"
      ]
     },
     "execution_count": 38,
     "metadata": {},
     "output_type": "execute_result"
    }
   ],
   "source": [
    "df.head(2)"
   ]
  },
  {
   "cell_type": "code",
   "execution_count": 39,
   "metadata": {
    "scrolled": true
   },
   "outputs": [
    {
     "name": "stdout",
     "output_type": "stream",
     "text": [
      "<class 'pandas.core.frame.DataFrame'>\n",
      "RangeIndex: 4101 entries, 0 to 4100\n",
      "Data columns (total 27 columns):\n",
      " #   Column  Non-Null Count  Dtype \n",
      "---  ------  --------------  ----- \n",
      " 0   Date    4101 non-null   object\n",
      " 1   Label   4101 non-null   int64 \n",
      " 2   Top1    4101 non-null   object\n",
      " 3   Top2    4101 non-null   object\n",
      " 4   Top3    4101 non-null   object\n",
      " 5   Top4    4101 non-null   object\n",
      " 6   Top5    4101 non-null   object\n",
      " 7   Top6    4101 non-null   object\n",
      " 8   Top7    4101 non-null   object\n",
      " 9   Top8    4101 non-null   object\n",
      " 10  Top9    4101 non-null   object\n",
      " 11  Top10   4101 non-null   object\n",
      " 12  Top11   4101 non-null   object\n",
      " 13  Top12   4101 non-null   object\n",
      " 14  Top13   4101 non-null   object\n",
      " 15  Top14   4101 non-null   object\n",
      " 16  Top15   4101 non-null   object\n",
      " 17  Top16   4101 non-null   object\n",
      " 18  Top17   4101 non-null   object\n",
      " 19  Top18   4101 non-null   object\n",
      " 20  Top19   4101 non-null   object\n",
      " 21  Top20   4101 non-null   object\n",
      " 22  Top21   4101 non-null   object\n",
      " 23  Top22   4101 non-null   object\n",
      " 24  Top23   4100 non-null   object\n",
      " 25  Top24   4098 non-null   object\n",
      " 26  Top25   4098 non-null   object\n",
      "dtypes: int64(1), object(26)\n",
      "memory usage: 865.2+ KB\n"
     ]
    }
   ],
   "source": [
    "df.info()"
   ]
  },
  {
   "cell_type": "markdown",
   "metadata": {},
   "source": [
    "Class 1- STock price is increased \n",
    "Class 0 - Stock price stays same or decreased"
   ]
  },
  {
   "cell_type": "markdown",
   "metadata": {},
   "source": [
    "# SPLITTING INTO TRAIN AND TEST SETS"
   ]
  },
  {
   "cell_type": "code",
   "execution_count": 40,
   "metadata": {},
   "outputs": [],
   "source": [
    "#converting the entire datatset into train and test \n",
    "train = df[df['Date'] < '20150101']\n",
    "test = df[df['Date'] > '20141231']"
   ]
  },
  {
   "cell_type": "code",
   "execution_count": 41,
   "metadata": {
    "scrolled": true
   },
   "outputs": [
    {
     "name": "stdout",
     "output_type": "stream",
     "text": [
      "<class 'pandas.core.frame.DataFrame'>\n",
      "Int64Index: 3975 entries, 0 to 3974\n",
      "Data columns (total 27 columns):\n",
      " #   Column  Non-Null Count  Dtype \n",
      "---  ------  --------------  ----- \n",
      " 0   Date    3975 non-null   object\n",
      " 1   Label   3975 non-null   int64 \n",
      " 2   Top1    3975 non-null   object\n",
      " 3   Top2    3975 non-null   object\n",
      " 4   Top3    3975 non-null   object\n",
      " 5   Top4    3975 non-null   object\n",
      " 6   Top5    3975 non-null   object\n",
      " 7   Top6    3975 non-null   object\n",
      " 8   Top7    3975 non-null   object\n",
      " 9   Top8    3975 non-null   object\n",
      " 10  Top9    3975 non-null   object\n",
      " 11  Top10   3975 non-null   object\n",
      " 12  Top11   3975 non-null   object\n",
      " 13  Top12   3975 non-null   object\n",
      " 14  Top13   3975 non-null   object\n",
      " 15  Top14   3975 non-null   object\n",
      " 16  Top15   3975 non-null   object\n",
      " 17  Top16   3975 non-null   object\n",
      " 18  Top17   3975 non-null   object\n",
      " 19  Top18   3975 non-null   object\n",
      " 20  Top19   3975 non-null   object\n",
      " 21  Top20   3975 non-null   object\n",
      " 22  Top21   3975 non-null   object\n",
      " 23  Top22   3975 non-null   object\n",
      " 24  Top23   3974 non-null   object\n",
      " 25  Top24   3972 non-null   object\n",
      " 26  Top25   3972 non-null   object\n",
      "dtypes: int64(1), object(26)\n",
      "memory usage: 869.5+ KB\n"
     ]
    }
   ],
   "source": [
    "train.info()"
   ]
  },
  {
   "cell_type": "code",
   "execution_count": 42,
   "metadata": {
    "scrolled": true
   },
   "outputs": [
    {
     "name": "stdout",
     "output_type": "stream",
     "text": [
      "<class 'pandas.core.frame.DataFrame'>\n",
      "Int64Index: 378 entries, 3723 to 4100\n",
      "Data columns (total 27 columns):\n",
      " #   Column  Non-Null Count  Dtype \n",
      "---  ------  --------------  ----- \n",
      " 0   Date    378 non-null    object\n",
      " 1   Label   378 non-null    int64 \n",
      " 2   Top1    378 non-null    object\n",
      " 3   Top2    378 non-null    object\n",
      " 4   Top3    378 non-null    object\n",
      " 5   Top4    378 non-null    object\n",
      " 6   Top5    378 non-null    object\n",
      " 7   Top6    378 non-null    object\n",
      " 8   Top7    378 non-null    object\n",
      " 9   Top8    378 non-null    object\n",
      " 10  Top9    378 non-null    object\n",
      " 11  Top10   378 non-null    object\n",
      " 12  Top11   378 non-null    object\n",
      " 13  Top12   378 non-null    object\n",
      " 14  Top13   378 non-null    object\n",
      " 15  Top14   378 non-null    object\n",
      " 16  Top15   378 non-null    object\n",
      " 17  Top16   378 non-null    object\n",
      " 18  Top17   378 non-null    object\n",
      " 19  Top18   378 non-null    object\n",
      " 20  Top19   378 non-null    object\n",
      " 21  Top20   378 non-null    object\n",
      " 22  Top21   378 non-null    object\n",
      " 23  Top22   378 non-null    object\n",
      " 24  Top23   378 non-null    object\n",
      " 25  Top24   378 non-null    object\n",
      " 26  Top25   378 non-null    object\n",
      "dtypes: int64(1), object(26)\n",
      "memory usage: 82.7+ KB\n"
     ]
    }
   ],
   "source": [
    "test.info()"
   ]
  },
  {
   "cell_type": "markdown",
   "metadata": {},
   "source": [
    "# TEXT PREPROCESSING"
   ]
  },
  {
   "cell_type": "code",
   "execution_count": 43,
   "metadata": {},
   "outputs": [],
   "source": [
    "#text preprocessing \n",
    "\n",
    "#for all columns from 2 to 27, any charcater other than aphabets wi be replaced with empty string \n",
    "data=train.iloc[:,2:27]\n",
    "data.replace(\"[^a-zA-Z]\",\" \",regex=True, inplace=True)"
   ]
  },
  {
   "cell_type": "code",
   "execution_count": 45,
   "metadata": {
    "scrolled": true
   },
   "outputs": [
    {
     "data": {
      "text/html": [
       "<div>\n",
       "<style scoped>\n",
       "    .dataframe tbody tr th:only-of-type {\n",
       "        vertical-align: middle;\n",
       "    }\n",
       "\n",
       "    .dataframe tbody tr th {\n",
       "        vertical-align: top;\n",
       "    }\n",
       "\n",
       "    .dataframe thead th {\n",
       "        text-align: right;\n",
       "    }\n",
       "</style>\n",
       "<table border=\"1\" class=\"dataframe\">\n",
       "  <thead>\n",
       "    <tr style=\"text-align: right;\">\n",
       "      <th></th>\n",
       "      <th>0</th>\n",
       "      <th>1</th>\n",
       "      <th>2</th>\n",
       "      <th>3</th>\n",
       "      <th>4</th>\n",
       "      <th>5</th>\n",
       "      <th>6</th>\n",
       "      <th>7</th>\n",
       "      <th>8</th>\n",
       "      <th>9</th>\n",
       "      <th>...</th>\n",
       "      <th>15</th>\n",
       "      <th>16</th>\n",
       "      <th>17</th>\n",
       "      <th>18</th>\n",
       "      <th>19</th>\n",
       "      <th>20</th>\n",
       "      <th>21</th>\n",
       "      <th>22</th>\n",
       "      <th>23</th>\n",
       "      <th>24</th>\n",
       "    </tr>\n",
       "  </thead>\n",
       "  <tbody>\n",
       "    <tr>\n",
       "      <th>0</th>\n",
       "      <td>A  hindrance to operations   extracts from the...</td>\n",
       "      <td>Scorecard</td>\n",
       "      <td>Hughes  instant hit buoys Blues</td>\n",
       "      <td>Jack gets his skates on at ice cold Alex</td>\n",
       "      <td>Chaos as Maracana builds up for United</td>\n",
       "      <td>Depleted Leicester prevail as Elliott spoils E...</td>\n",
       "      <td>Hungry Spurs sense rich pickings</td>\n",
       "      <td>Gunners so wide of an easy target</td>\n",
       "      <td>Derby raise a glass to Strupar s debut double</td>\n",
       "      <td>Southgate strikes  Leeds pay the penalty</td>\n",
       "      <td>...</td>\n",
       "      <td>Flintoff injury piles on woe for England</td>\n",
       "      <td>Hunters threaten Jospin with new battle of the...</td>\n",
       "      <td>Kohl s successor drawn into scandal</td>\n",
       "      <td>The difference between men and women</td>\n",
       "      <td>Sara Denver  nurse turned solicitor</td>\n",
       "      <td>Diana s landmine crusade put Tories in a panic</td>\n",
       "      <td>Yeltsin s resignation caught opposition flat f...</td>\n",
       "      <td>Russian roulette</td>\n",
       "      <td>Sold out</td>\n",
       "      <td>Recovering a title</td>\n",
       "    </tr>\n",
       "    <tr>\n",
       "      <th>1</th>\n",
       "      <td>Scorecard</td>\n",
       "      <td>The best lake scene</td>\n",
       "      <td>Leader  German sleaze inquiry</td>\n",
       "      <td>Cheerio  boyo</td>\n",
       "      <td>The main recommendations</td>\n",
       "      <td>Has Cubie killed fees</td>\n",
       "      <td>Has Cubie killed fees</td>\n",
       "      <td>Has Cubie killed fees</td>\n",
       "      <td>Hopkins  furious  at Foster s lack of Hannibal...</td>\n",
       "      <td>Has Cubie killed fees</td>\n",
       "      <td>...</td>\n",
       "      <td>On the critical list</td>\n",
       "      <td>The timing of their lives</td>\n",
       "      <td>Dear doctor</td>\n",
       "      <td>Irish court halts IRA man s extradition to Nor...</td>\n",
       "      <td>Burundi peace initiative fades after rebels re...</td>\n",
       "      <td>PE points the way forward to the ECB</td>\n",
       "      <td>Campaigners keep up pressure on Nazi war crime...</td>\n",
       "      <td>Jane Ratcliffe</td>\n",
       "      <td>Yet more things you wouldn t know without the ...</td>\n",
       "      <td>Millennium bug fails to bite</td>\n",
       "    </tr>\n",
       "  </tbody>\n",
       "</table>\n",
       "<p>2 rows × 25 columns</p>\n",
       "</div>"
      ],
      "text/plain": [
       "                                                   0                    1  \\\n",
       "0  A  hindrance to operations   extracts from the...            Scorecard   \n",
       "1                                          Scorecard  The best lake scene   \n",
       "\n",
       "                                 2                                         3  \\\n",
       "0  Hughes  instant hit buoys Blues  Jack gets his skates on at ice cold Alex   \n",
       "1    Leader  German sleaze inquiry                             Cheerio  boyo   \n",
       "\n",
       "                                        4  \\\n",
       "0  Chaos as Maracana builds up for United   \n",
       "1                The main recommendations   \n",
       "\n",
       "                                                   5  \\\n",
       "0  Depleted Leicester prevail as Elliott spoils E...   \n",
       "1                             Has Cubie killed fees    \n",
       "\n",
       "                                  6                                  7  \\\n",
       "0  Hungry Spurs sense rich pickings  Gunners so wide of an easy target   \n",
       "1            Has Cubie killed fees              Has Cubie killed fees    \n",
       "\n",
       "                                                   8  \\\n",
       "0      Derby raise a glass to Strupar s debut double   \n",
       "1  Hopkins  furious  at Foster s lack of Hannibal...   \n",
       "\n",
       "                                          9  ...  \\\n",
       "0  Southgate strikes  Leeds pay the penalty  ...   \n",
       "1                    Has Cubie killed fees   ...   \n",
       "\n",
       "                                         15  \\\n",
       "0  Flintoff injury piles on woe for England   \n",
       "1                      On the critical list   \n",
       "\n",
       "                                                  16  \\\n",
       "0  Hunters threaten Jospin with new battle of the...   \n",
       "1                          The timing of their lives   \n",
       "\n",
       "                                    17  \\\n",
       "0  Kohl s successor drawn into scandal   \n",
       "1                          Dear doctor   \n",
       "\n",
       "                                                  18  \\\n",
       "0               The difference between men and women   \n",
       "1  Irish court halts IRA man s extradition to Nor...   \n",
       "\n",
       "                                                  19  \\\n",
       "0                Sara Denver  nurse turned solicitor   \n",
       "1  Burundi peace initiative fades after rebels re...   \n",
       "\n",
       "                                               20  \\\n",
       "0  Diana s landmine crusade put Tories in a panic   \n",
       "1            PE points the way forward to the ECB   \n",
       "\n",
       "                                                  21                22  \\\n",
       "0  Yeltsin s resignation caught opposition flat f...  Russian roulette   \n",
       "1  Campaigners keep up pressure on Nazi war crime...    Jane Ratcliffe   \n",
       "\n",
       "                                                  23  \\\n",
       "0                                           Sold out   \n",
       "1  Yet more things you wouldn t know without the ...   \n",
       "\n",
       "                             24  \n",
       "0            Recovering a title  \n",
       "1  Millennium bug fails to bite  \n",
       "\n",
       "[2 rows x 25 columns]"
      ]
     },
     "execution_count": 45,
     "metadata": {},
     "output_type": "execute_result"
    }
   ],
   "source": [
    "# Renaming column names \n",
    "list1= [i for i in range(25)]\n",
    "new_Index=[str(i) for i in list1]\n",
    "data.columns= new_Index\n",
    "data.head(2)"
   ]
  },
  {
   "cell_type": "code",
   "execution_count": 46,
   "metadata": {
    "scrolled": true
   },
   "outputs": [
    {
     "data": {
      "text/html": [
       "<div>\n",
       "<style scoped>\n",
       "    .dataframe tbody tr th:only-of-type {\n",
       "        vertical-align: middle;\n",
       "    }\n",
       "\n",
       "    .dataframe tbody tr th {\n",
       "        vertical-align: top;\n",
       "    }\n",
       "\n",
       "    .dataframe thead th {\n",
       "        text-align: right;\n",
       "    }\n",
       "</style>\n",
       "<table border=\"1\" class=\"dataframe\">\n",
       "  <thead>\n",
       "    <tr style=\"text-align: right;\">\n",
       "      <th></th>\n",
       "      <th>0</th>\n",
       "      <th>1</th>\n",
       "      <th>2</th>\n",
       "      <th>3</th>\n",
       "      <th>4</th>\n",
       "      <th>5</th>\n",
       "      <th>6</th>\n",
       "      <th>7</th>\n",
       "      <th>8</th>\n",
       "      <th>9</th>\n",
       "      <th>...</th>\n",
       "      <th>15</th>\n",
       "      <th>16</th>\n",
       "      <th>17</th>\n",
       "      <th>18</th>\n",
       "      <th>19</th>\n",
       "      <th>20</th>\n",
       "      <th>21</th>\n",
       "      <th>22</th>\n",
       "      <th>23</th>\n",
       "      <th>24</th>\n",
       "    </tr>\n",
       "  </thead>\n",
       "  <tbody>\n",
       "    <tr>\n",
       "      <th>0</th>\n",
       "      <td>a  hindrance to operations   extracts from the...</td>\n",
       "      <td>scorecard</td>\n",
       "      <td>hughes  instant hit buoys blues</td>\n",
       "      <td>jack gets his skates on at ice cold alex</td>\n",
       "      <td>chaos as maracana builds up for united</td>\n",
       "      <td>depleted leicester prevail as elliott spoils e...</td>\n",
       "      <td>hungry spurs sense rich pickings</td>\n",
       "      <td>gunners so wide of an easy target</td>\n",
       "      <td>derby raise a glass to strupar s debut double</td>\n",
       "      <td>southgate strikes  leeds pay the penalty</td>\n",
       "      <td>...</td>\n",
       "      <td>flintoff injury piles on woe for england</td>\n",
       "      <td>hunters threaten jospin with new battle of the...</td>\n",
       "      <td>kohl s successor drawn into scandal</td>\n",
       "      <td>the difference between men and women</td>\n",
       "      <td>sara denver  nurse turned solicitor</td>\n",
       "      <td>diana s landmine crusade put tories in a panic</td>\n",
       "      <td>yeltsin s resignation caught opposition flat f...</td>\n",
       "      <td>russian roulette</td>\n",
       "      <td>sold out</td>\n",
       "      <td>recovering a title</td>\n",
       "    </tr>\n",
       "    <tr>\n",
       "      <th>1</th>\n",
       "      <td>scorecard</td>\n",
       "      <td>the best lake scene</td>\n",
       "      <td>leader  german sleaze inquiry</td>\n",
       "      <td>cheerio  boyo</td>\n",
       "      <td>the main recommendations</td>\n",
       "      <td>has cubie killed fees</td>\n",
       "      <td>has cubie killed fees</td>\n",
       "      <td>has cubie killed fees</td>\n",
       "      <td>hopkins  furious  at foster s lack of hannibal...</td>\n",
       "      <td>has cubie killed fees</td>\n",
       "      <td>...</td>\n",
       "      <td>on the critical list</td>\n",
       "      <td>the timing of their lives</td>\n",
       "      <td>dear doctor</td>\n",
       "      <td>irish court halts ira man s extradition to nor...</td>\n",
       "      <td>burundi peace initiative fades after rebels re...</td>\n",
       "      <td>pe points the way forward to the ecb</td>\n",
       "      <td>campaigners keep up pressure on nazi war crime...</td>\n",
       "      <td>jane ratcliffe</td>\n",
       "      <td>yet more things you wouldn t know without the ...</td>\n",
       "      <td>millennium bug fails to bite</td>\n",
       "    </tr>\n",
       "  </tbody>\n",
       "</table>\n",
       "<p>2 rows × 25 columns</p>\n",
       "</div>"
      ],
      "text/plain": [
       "                                                   0                    1  \\\n",
       "0  a  hindrance to operations   extracts from the...            scorecard   \n",
       "1                                          scorecard  the best lake scene   \n",
       "\n",
       "                                 2                                         3  \\\n",
       "0  hughes  instant hit buoys blues  jack gets his skates on at ice cold alex   \n",
       "1    leader  german sleaze inquiry                             cheerio  boyo   \n",
       "\n",
       "                                        4  \\\n",
       "0  chaos as maracana builds up for united   \n",
       "1                the main recommendations   \n",
       "\n",
       "                                                   5  \\\n",
       "0  depleted leicester prevail as elliott spoils e...   \n",
       "1                             has cubie killed fees    \n",
       "\n",
       "                                  6                                  7  \\\n",
       "0  hungry spurs sense rich pickings  gunners so wide of an easy target   \n",
       "1            has cubie killed fees              has cubie killed fees    \n",
       "\n",
       "                                                   8  \\\n",
       "0      derby raise a glass to strupar s debut double   \n",
       "1  hopkins  furious  at foster s lack of hannibal...   \n",
       "\n",
       "                                          9  ...  \\\n",
       "0  southgate strikes  leeds pay the penalty  ...   \n",
       "1                    has cubie killed fees   ...   \n",
       "\n",
       "                                         15  \\\n",
       "0  flintoff injury piles on woe for england   \n",
       "1                      on the critical list   \n",
       "\n",
       "                                                  16  \\\n",
       "0  hunters threaten jospin with new battle of the...   \n",
       "1                          the timing of their lives   \n",
       "\n",
       "                                    17  \\\n",
       "0  kohl s successor drawn into scandal   \n",
       "1                          dear doctor   \n",
       "\n",
       "                                                  18  \\\n",
       "0               the difference between men and women   \n",
       "1  irish court halts ira man s extradition to nor...   \n",
       "\n",
       "                                                  19  \\\n",
       "0                sara denver  nurse turned solicitor   \n",
       "1  burundi peace initiative fades after rebels re...   \n",
       "\n",
       "                                               20  \\\n",
       "0  diana s landmine crusade put tories in a panic   \n",
       "1            pe points the way forward to the ecb   \n",
       "\n",
       "                                                  21                22  \\\n",
       "0  yeltsin s resignation caught opposition flat f...  russian roulette   \n",
       "1  campaigners keep up pressure on nazi war crime...    jane ratcliffe   \n",
       "\n",
       "                                                  23  \\\n",
       "0                                           sold out   \n",
       "1  yet more things you wouldn t know without the ...   \n",
       "\n",
       "                             24  \n",
       "0            recovering a title  \n",
       "1  millennium bug fails to bite  \n",
       "\n",
       "[2 rows x 25 columns]"
      ]
     },
     "execution_count": 46,
     "metadata": {},
     "output_type": "execute_result"
    }
   ],
   "source": [
    "# Convertng headlines to lower case\n",
    "for i in new_Index:\n",
    "    data[i]=data[i].str.lower()\n",
    "data.head(2)"
   ]
  },
  {
   "cell_type": "code",
   "execution_count": 47,
   "metadata": {},
   "outputs": [],
   "source": [
    "#here every row will be converted into one text\n",
    "headlines = []\n",
    "for row in range(0,len(data.index)):\n",
    "    headlines.append(' '.join(str(x) for x in data.iloc[row,0:25]))"
   ]
  },
  {
   "cell_type": "code",
   "execution_count": 48,
   "metadata": {},
   "outputs": [
    {
     "data": {
      "text/plain": [
       "'a  hindrance to operations   extracts from the leaked reports scorecard hughes  instant hit buoys blues jack gets his skates on at ice cold alex chaos as maracana builds up for united depleted leicester prevail as elliott spoils everton s party hungry spurs sense rich pickings gunners so wide of an easy target derby raise a glass to strupar s debut double southgate strikes  leeds pay the penalty hammers hand robson a youthful lesson saints party like it s      wear wolves have turned into lambs stump mike catches testy gough s taunt langer escapes to hit     flintoff injury piles on woe for england hunters threaten jospin with new battle of the somme kohl s successor drawn into scandal the difference between men and women sara denver  nurse turned solicitor diana s landmine crusade put tories in a panic yeltsin s resignation caught opposition flat footed russian roulette sold out recovering a title'"
      ]
     },
     "execution_count": 48,
     "metadata": {},
     "output_type": "execute_result"
    }
   ],
   "source": [
    "#printing the first row \n",
    "headlines[0]"
   ]
  },
  {
   "cell_type": "markdown",
   "metadata": {},
   "source": [
    "# COUNTVECTORIZER AND RANDOM FOREST CLASSIFIER\n"
   ]
  },
  {
   "cell_type": "code",
   "execution_count": 82,
   "metadata": {},
   "outputs": [
    {
     "data": {
      "text/plain": [
       "RandomForestClassifier(criterion='entropy', n_estimators=200)"
      ]
     },
     "execution_count": 82,
     "metadata": {},
     "output_type": "execute_result"
    }
   ],
   "source": [
    "from sklearn.feature_extraction.text import CountVectorizer  #takes sentences into vectors of features\n",
    "from sklearn.ensemble import RandomForestClassifier\n",
    "\n",
    "#Bag of words\n",
    "countvector=CountVectorizer(ngram_range=(2,2))\n",
    "traindataset=countvector.fit_transform(headlines)\n",
    "\n",
    "#RandomForest Classifier for train dataset\n",
    "randomclassifier=RandomForestClassifier(n_estimators=200,criterion='entropy')\n",
    "randomclassifier.fit(traindataset,train['Label'])  #traindataset is y_pred and train[label] is dependent feature"
   ]
  },
  {
   "cell_type": "code",
   "execution_count": 83,
   "metadata": {},
   "outputs": [],
   "source": [
    "#Predict for the Test Dataset\n",
    "test_transform= []\n",
    "\n",
    "for row in range(0,len(test.index)):\n",
    "    test_transform.append(' '.join(str(x) for x in test.iloc[row,2:27]))\n",
    "    \n",
    "test_dataset = countvector.transform(test_transform)\n",
    "predictions = randomclassifier.predict(test_dataset)"
   ]
  },
  {
   "cell_type": "code",
   "execution_count": 103,
   "metadata": {},
   "outputs": [
    {
     "name": "stdout",
     "output_type": "stream",
     "text": [
      "The confusion Matrix is [[141  45]\n",
      " [  7 185]]\n",
      "The Accuracy of the Random forest classifier model is: 86.24338624338624\n"
     ]
    }
   ],
   "source": [
    "#Calculate accuracy\n",
    "from sklearn.metrics import classification_report,confusion_matrix,accuracy_score\n",
    "\n",
    "\n",
    "matrix=confusion_matrix(test['Label'],predictions)\n",
    "print('The confusion Matrix is',matrix)\n",
    "\n",
    "score1=accuracy_score(test['Label'],predictions)\n",
    "print('The Accuracy of the Random forest classifier model is:',score1*100)\n"
   ]
  },
  {
   "cell_type": "markdown",
   "metadata": {},
   "source": [
    "# COUNTVECTORIZER AND NAIVE BAYES\n"
   ]
  },
  {
   "cell_type": "code",
   "execution_count": 85,
   "metadata": {},
   "outputs": [],
   "source": [
    "from sklearn.naive_bayes import MultinomialNB\n",
    "detect_model = MultinomialNB().fit(traindataset, train['Label'])\n",
    "\n",
    "#Predict for the Test Dataset\n",
    "test_transform_NB= []\n",
    "for row in range(0,len(test.index)):\n",
    "    test_transform_NB.append(' '.join(str(x) for x in test.iloc[row,2:27]))\n",
    "    \n",
    "    \n",
    "test_dataset_NB = countvector.transform(test_transform_NB)\n",
    "#predictions_NB = randomclassifier.predict(test_dataset_NB)\n",
    "y_pred=detect_model.predict(test_dataset_NB)"
   ]
  },
  {
   "cell_type": "code",
   "execution_count": 102,
   "metadata": {},
   "outputs": [
    {
     "name": "stdout",
     "output_type": "stream",
     "text": [
      "The confusion Matrix is [[138  48]\n",
      " [ 10 182]]\n",
      "The Accuracy of the Random forest classifier model is: 84.65608465608466\n"
     ]
    }
   ],
   "source": [
    "#Calculate accuracy\n",
    "from sklearn.metrics import classification_report,confusion_matrix,accuracy_score\n",
    "\n",
    "\n",
    "matrix=confusion_matrix(test['Label'],y_pred)\n",
    "print('The confusion Matrix is',matrix)\n",
    "\n",
    "score2=accuracy_score(test['Label'],y_pred)\n",
    "print('The Accuracy of the Random forest classifier model is:',score2*100)"
   ]
  },
  {
   "cell_type": "markdown",
   "metadata": {},
   "source": [
    "# COUNTVECTORIZER AND PASSIVE AGGRESSIVE CLASSIFIER"
   ]
  },
  {
   "cell_type": "code",
   "execution_count": null,
   "metadata": {},
   "outputs": [],
   "source": [
    "We can simply say that an online-learning algorithm will get\n",
    "    a training example, update the classifier, and then throw away the example.\n",
    "    \n",
    "How Passive-Aggressive Algorithms Work:\n",
    "Passive-Aggressive algorithms are called so because :\n",
    "    Passive: If the prediction is correct, keep the model and do not make any changes. i.e., the data in the example is not enough to cause any changes in the model. \n",
    "    Aggressive: If the prediction is incorrect, make changes to the model. i.e., some change to the model may correct it.\n",
    "        \n"
   ]
  },
  {
   "cell_type": "code",
   "execution_count": 92,
   "metadata": {},
   "outputs": [
    {
     "data": {
      "text/plain": [
       "PassiveAggressiveClassifier(C=0.5, random_state=5)"
      ]
     },
     "execution_count": 92,
     "metadata": {},
     "output_type": "execute_result"
    }
   ],
   "source": [
    "from sklearn.linear_model import PassiveAggressiveClassifier\n",
    "#from sklearn.datasets import make_classification\n",
    "AC_model =  PassiveAggressiveClassifier(C = 0.5, random_state = 5) \n",
    "AC_model.fit(traindataset, train['Label'])\n",
    "\n",
    "#y_pred = AC_model.predict(test)"
   ]
  },
  {
   "cell_type": "code",
   "execution_count": 93,
   "metadata": {},
   "outputs": [],
   "source": [
    "#Predict for the Test Dataset\n",
    "test_transform_AC= []\n",
    "for row in range(0,len(test.index)):\n",
    "    test_transform_AC.append(' '.join(str(x) for x in test.iloc[row,2:27]))"
   ]
  },
  {
   "cell_type": "code",
   "execution_count": 99,
   "metadata": {},
   "outputs": [],
   "source": [
    "test_dataset_AC = countvector.transform(test_transform_AC)\n",
    "y_pred_AC=AC_model.predict(test_dataset_AC)"
   ]
  },
  {
   "cell_type": "code",
   "execution_count": 104,
   "metadata": {},
   "outputs": [
    {
     "name": "stdout",
     "output_type": "stream",
     "text": [
      "The confusion Matrix is [[158  28]\n",
      " [ 33 159]]\n",
      "The Accuracy of the Random forest classifier model is: 83.86243386243386\n"
     ]
    }
   ],
   "source": [
    "#Calculate accuracy\n",
    "from sklearn.metrics import classification_report,confusion_matrix,accuracy_score\n",
    "\n",
    "\n",
    "matrix=confusion_matrix(test['Label'],y_pred_AC)\n",
    "print('The confusion Matrix is',matrix)\n",
    "\n",
    "score3=accuracy_score(test['Label'],y_pred_AC)\n",
    "print('The Accuracy of the Random forest classifier model is:',score3*100)"
   ]
  },
  {
   "cell_type": "code",
   "execution_count": 106,
   "metadata": {},
   "outputs": [
    {
     "name": "stdout",
     "output_type": "stream",
     "text": [
      "Accuracy of Random Forest Model:  86.24338624338624\n",
      "Accuracy of Naive Bayes Model:  84.65608465608466\n",
      "Accuracy of Passive Aggressive Model: 83.86243386243386\n"
     ]
    }
   ],
   "source": [
    "print(\"Accuracy of Random Forest Model: \",score1*100)\n",
    "print(\"Accuracy of Naive Bayes Model: \",score2*100)\n",
    "print(\"Accuracy of Passive Aggressive Model:\",score3*100)"
   ]
  }
 ],
 "metadata": {
  "kernelspec": {
   "display_name": "Python 3",
   "language": "python",
   "name": "python3"
  },
  "language_info": {
   "codemirror_mode": {
    "name": "ipython",
    "version": 3
   },
   "file_extension": ".py",
   "mimetype": "text/x-python",
   "name": "python",
   "nbconvert_exporter": "python",
   "pygments_lexer": "ipython3",
   "version": "3.8.3"
  }
 },
 "nbformat": 4,
 "nbformat_minor": 4
}
